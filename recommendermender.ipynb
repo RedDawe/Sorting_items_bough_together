{
  "nbformat": 4,
  "nbformat_minor": 0,
  "metadata": {
    "colab": {
      "name": "recommendermender.ipynb",
      "provenance": [],
      "collapsed_sections": [],
      "authorship_tag": "ABX9TyOpALAi6JJRLo3JFHTypWXZ",
      "include_colab_link": true
    },
    "kernelspec": {
      "name": "python3",
      "display_name": "Python 3"
    }
  },
  "cells": [
    {
      "cell_type": "markdown",
      "metadata": {
        "id": "view-in-github",
        "colab_type": "text"
      },
      "source": [
        "<a href=\"https://colab.research.google.com/github/RedDawe/Sorting_items_bough_together/blob/master/recommendermender.ipynb\" target=\"_parent\"><img src=\"https://colab.research.google.com/assets/colab-badge.svg\" alt=\"Open In Colab\"/></a>"
      ]
    },
    {
      "cell_type": "markdown",
      "metadata": {
        "id": "_XFSriSpG300",
        "colab_type": "text"
      },
      "source": [
        "Parts of code taken from:\n",
        "\n",
        "https://www.kaggle.com/himansh96/eda-e-commerce-dataset\n",
        "\n",
        "https://www.kaggle.com/johnosorio/retail-rocket-ecommerce-recommender-system"
      ]
    },
    {
      "cell_type": "markdown",
      "metadata": {
        "id": "iSacmxhuL7of",
        "colab_type": "text"
      },
      "source": [
        "Load everything in"
      ]
    },
    {
      "cell_type": "code",
      "metadata": {
        "id": "U1YzES1wL-mV",
        "colab_type": "code",
        "colab": {}
      },
      "source": [
        "!pip install tensorflow-gpu==2.0"
      ],
      "execution_count": 0,
      "outputs": []
    },
    {
      "cell_type": "code",
      "metadata": {
        "id": "K_UWOS5sJ-1-",
        "colab_type": "code",
        "outputId": "11d155ec-7bfe-4e58-d656-d9e2883c0425",
        "colab": {
          "resources": {
            "http://localhost:8080/nbextensions/google.colab/files.js": {
              "data": "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",
              "ok": true,
              "headers": [
                [
                  "content-type",
                  "application/javascript"
                ]
              ],
              "status": 200,
              "status_text": ""
            }
          },
          "base_uri": "https://localhost:8080/",
          "height": 91
        }
      },
      "source": [
        "from google.colab import files\n",
        "files.upload()"
      ],
      "execution_count": 0,
      "outputs": [
        {
          "output_type": "display_data",
          "data": {
            "text/html": [
              "\n",
              "     <input type=\"file\" id=\"files-300723bc-c0ea-450d-9a1f-22efdd400c2f\" name=\"files[]\" multiple disabled />\n",
              "     <output id=\"result-300723bc-c0ea-450d-9a1f-22efdd400c2f\">\n",
              "      Upload widget is only available when the cell has been executed in the\n",
              "      current browser session. Please rerun this cell to enable.\n",
              "      </output>\n",
              "      <script src=\"/nbextensions/google.colab/files.js\"></script> "
            ],
            "text/plain": [
              "<IPython.core.display.HTML object>"
            ]
          },
          "metadata": {
            "tags": []
          }
        },
        {
          "output_type": "stream",
          "text": [
            "Saving kaggle.json to kaggle.json\n"
          ],
          "name": "stdout"
        },
        {
          "output_type": "execute_result",
          "data": {
            "text/plain": [
              "{'kaggle.json': b'{\"username\":\"reddawe\",\"key\":\"a973d3d754ed6eb75ff80b96461703d8\"}'}"
            ]
          },
          "metadata": {
            "tags": []
          },
          "execution_count": 2
        }
      ]
    },
    {
      "cell_type": "code",
      "metadata": {
        "id": "gDc2XlJCKNAg",
        "colab_type": "code",
        "colab": {}
      },
      "source": [
        "!mkdir ~/.kaggle"
      ],
      "execution_count": 0,
      "outputs": []
    },
    {
      "cell_type": "code",
      "metadata": {
        "id": "WrkuIXiRKW55",
        "colab_type": "code",
        "colab": {}
      },
      "source": [
        "!cp kaggle.json ~/.kaggle/"
      ],
      "execution_count": 0,
      "outputs": []
    },
    {
      "cell_type": "code",
      "metadata": {
        "id": "igwNyY2EKa-o",
        "colab_type": "code",
        "colab": {}
      },
      "source": [
        "!chmod 600 ~/.kaggle/kaggle.json"
      ],
      "execution_count": 0,
      "outputs": []
    },
    {
      "cell_type": "code",
      "metadata": {
        "id": "-l5UMsuyKktH",
        "colab_type": "code",
        "outputId": "13edb81b-07cf-4642-fd9f-698fbe8254f0",
        "colab": {
          "base_uri": "https://localhost:8080/",
          "height": 68
        }
      },
      "source": [
        "!kaggle datasets download -d retailrocket/ecommerce-dataset"
      ],
      "execution_count": 0,
      "outputs": [
        {
          "output_type": "stream",
          "text": [
            "Downloading ecommerce-dataset.zip to /content\n",
            " 99% 287M/291M [00:01<00:00, 143MB/s]\n",
            "100% 291M/291M [00:02<00:00, 151MB/s]\n"
          ],
          "name": "stdout"
        }
      ]
    },
    {
      "cell_type": "code",
      "metadata": {
        "id": "bsaKxyJYJL_V",
        "colab_type": "code",
        "outputId": "5f319fb4-02fa-4a29-dc4e-a90909cef08d",
        "colab": {
          "base_uri": "https://localhost:8080/",
          "height": 102
        }
      },
      "source": [
        "!unzip ecommerce-dataset.zip"
      ],
      "execution_count": 0,
      "outputs": [
        {
          "output_type": "stream",
          "text": [
            "Archive:  ecommerce-dataset.zip\n",
            "  inflating: category_tree.csv       \n",
            "  inflating: events.csv              \n",
            "  inflating: item_properties_part1.csv  \n",
            "  inflating: item_properties_part2.csv  \n"
          ],
          "name": "stdout"
        }
      ]
    },
    {
      "cell_type": "code",
      "metadata": {
        "id": "FmzUpdoJK0JA",
        "colab_type": "code",
        "colab": {}
      },
      "source": [
        "import pandas as pd\n",
        "import numpy as np\n",
        "import tensorflow as tf\n",
        "assert tf.executing_eagerly()"
      ],
      "execution_count": 0,
      "outputs": []
    },
    {
      "cell_type": "code",
      "metadata": {
        "id": "Zmp-Qg9LvgiS",
        "colab_type": "code",
        "colab": {}
      },
      "source": [
        "events = pd.read_csv('events.csv')\n",
        "category_tree = pd.read_csv('category_tree.csv')\n",
        "items1 = pd.read_csv('item_properties_part1.csv')\n",
        "items2 = pd.read_csv('item_properties_part2.csv')\n",
        "items = pd.concat([items1, items2]) "
      ],
      "execution_count": 0,
      "outputs": []
    },
    {
      "cell_type": "markdown",
      "metadata": {
        "id": "C19jXNjiL3oL",
        "colab_type": "text"
      },
      "source": [
        "Quick visual"
      ]
    },
    {
      "cell_type": "code",
      "metadata": {
        "id": "feYzGC6Bv8OT",
        "colab_type": "code",
        "outputId": "5fdae5ee-2193-44d3-8cf4-fabeddc65398",
        "colab": {
          "base_uri": "https://localhost:8080/",
          "height": 669
        }
      },
      "source": [
        "events.head(20)"
      ],
      "execution_count": 0,
      "outputs": [
        {
          "output_type": "execute_result",
          "data": {
            "text/html": [
              "<div>\n",
              "<style scoped>\n",
              "    .dataframe tbody tr th:only-of-type {\n",
              "        vertical-align: middle;\n",
              "    }\n",
              "\n",
              "    .dataframe tbody tr th {\n",
              "        vertical-align: top;\n",
              "    }\n",
              "\n",
              "    .dataframe thead th {\n",
              "        text-align: right;\n",
              "    }\n",
              "</style>\n",
              "<table border=\"1\" class=\"dataframe\">\n",
              "  <thead>\n",
              "    <tr style=\"text-align: right;\">\n",
              "      <th></th>\n",
              "      <th>timestamp</th>\n",
              "      <th>visitorid</th>\n",
              "      <th>event</th>\n",
              "      <th>itemid</th>\n",
              "      <th>transactionid</th>\n",
              "    </tr>\n",
              "  </thead>\n",
              "  <tbody>\n",
              "    <tr>\n",
              "      <th>0</th>\n",
              "      <td>1433221332117</td>\n",
              "      <td>257597</td>\n",
              "      <td>view</td>\n",
              "      <td>355908</td>\n",
              "      <td>NaN</td>\n",
              "    </tr>\n",
              "    <tr>\n",
              "      <th>1</th>\n",
              "      <td>1433224214164</td>\n",
              "      <td>992329</td>\n",
              "      <td>view</td>\n",
              "      <td>248676</td>\n",
              "      <td>NaN</td>\n",
              "    </tr>\n",
              "    <tr>\n",
              "      <th>2</th>\n",
              "      <td>1433221999827</td>\n",
              "      <td>111016</td>\n",
              "      <td>view</td>\n",
              "      <td>318965</td>\n",
              "      <td>NaN</td>\n",
              "    </tr>\n",
              "    <tr>\n",
              "      <th>3</th>\n",
              "      <td>1433221955914</td>\n",
              "      <td>483717</td>\n",
              "      <td>view</td>\n",
              "      <td>253185</td>\n",
              "      <td>NaN</td>\n",
              "    </tr>\n",
              "    <tr>\n",
              "      <th>4</th>\n",
              "      <td>1433221337106</td>\n",
              "      <td>951259</td>\n",
              "      <td>view</td>\n",
              "      <td>367447</td>\n",
              "      <td>NaN</td>\n",
              "    </tr>\n",
              "    <tr>\n",
              "      <th>5</th>\n",
              "      <td>1433224086234</td>\n",
              "      <td>972639</td>\n",
              "      <td>view</td>\n",
              "      <td>22556</td>\n",
              "      <td>NaN</td>\n",
              "    </tr>\n",
              "    <tr>\n",
              "      <th>6</th>\n",
              "      <td>1433221923240</td>\n",
              "      <td>810725</td>\n",
              "      <td>view</td>\n",
              "      <td>443030</td>\n",
              "      <td>NaN</td>\n",
              "    </tr>\n",
              "    <tr>\n",
              "      <th>7</th>\n",
              "      <td>1433223291897</td>\n",
              "      <td>794181</td>\n",
              "      <td>view</td>\n",
              "      <td>439202</td>\n",
              "      <td>NaN</td>\n",
              "    </tr>\n",
              "    <tr>\n",
              "      <th>8</th>\n",
              "      <td>1433220899221</td>\n",
              "      <td>824915</td>\n",
              "      <td>view</td>\n",
              "      <td>428805</td>\n",
              "      <td>NaN</td>\n",
              "    </tr>\n",
              "    <tr>\n",
              "      <th>9</th>\n",
              "      <td>1433221204592</td>\n",
              "      <td>339335</td>\n",
              "      <td>view</td>\n",
              "      <td>82389</td>\n",
              "      <td>NaN</td>\n",
              "    </tr>\n",
              "    <tr>\n",
              "      <th>10</th>\n",
              "      <td>1433222162373</td>\n",
              "      <td>176446</td>\n",
              "      <td>view</td>\n",
              "      <td>10572</td>\n",
              "      <td>NaN</td>\n",
              "    </tr>\n",
              "    <tr>\n",
              "      <th>11</th>\n",
              "      <td>1433221701252</td>\n",
              "      <td>929206</td>\n",
              "      <td>view</td>\n",
              "      <td>410676</td>\n",
              "      <td>NaN</td>\n",
              "    </tr>\n",
              "    <tr>\n",
              "      <th>12</th>\n",
              "      <td>1433224229496</td>\n",
              "      <td>15795</td>\n",
              "      <td>view</td>\n",
              "      <td>44872</td>\n",
              "      <td>NaN</td>\n",
              "    </tr>\n",
              "    <tr>\n",
              "      <th>13</th>\n",
              "      <td>1433223697356</td>\n",
              "      <td>598426</td>\n",
              "      <td>view</td>\n",
              "      <td>156489</td>\n",
              "      <td>NaN</td>\n",
              "    </tr>\n",
              "    <tr>\n",
              "      <th>14</th>\n",
              "      <td>1433224078165</td>\n",
              "      <td>223343</td>\n",
              "      <td>view</td>\n",
              "      <td>402625</td>\n",
              "      <td>NaN</td>\n",
              "    </tr>\n",
              "    <tr>\n",
              "      <th>15</th>\n",
              "      <td>1433222531378</td>\n",
              "      <td>57036</td>\n",
              "      <td>view</td>\n",
              "      <td>334662</td>\n",
              "      <td>NaN</td>\n",
              "    </tr>\n",
              "    <tr>\n",
              "      <th>16</th>\n",
              "      <td>1433223239808</td>\n",
              "      <td>1377281</td>\n",
              "      <td>view</td>\n",
              "      <td>251467</td>\n",
              "      <td>NaN</td>\n",
              "    </tr>\n",
              "    <tr>\n",
              "      <th>17</th>\n",
              "      <td>1433223236124</td>\n",
              "      <td>287857</td>\n",
              "      <td>addtocart</td>\n",
              "      <td>5206</td>\n",
              "      <td>NaN</td>\n",
              "    </tr>\n",
              "    <tr>\n",
              "      <th>18</th>\n",
              "      <td>1433224244282</td>\n",
              "      <td>1370216</td>\n",
              "      <td>view</td>\n",
              "      <td>176721</td>\n",
              "      <td>NaN</td>\n",
              "    </tr>\n",
              "    <tr>\n",
              "      <th>19</th>\n",
              "      <td>1433221078505</td>\n",
              "      <td>158090</td>\n",
              "      <td>addtocart</td>\n",
              "      <td>10572</td>\n",
              "      <td>NaN</td>\n",
              "    </tr>\n",
              "  </tbody>\n",
              "</table>\n",
              "</div>"
            ],
            "text/plain": [
              "        timestamp  visitorid      event  itemid  transactionid\n",
              "0   1433221332117     257597       view  355908            NaN\n",
              "1   1433224214164     992329       view  248676            NaN\n",
              "2   1433221999827     111016       view  318965            NaN\n",
              "3   1433221955914     483717       view  253185            NaN\n",
              "4   1433221337106     951259       view  367447            NaN\n",
              "5   1433224086234     972639       view   22556            NaN\n",
              "6   1433221923240     810725       view  443030            NaN\n",
              "7   1433223291897     794181       view  439202            NaN\n",
              "8   1433220899221     824915       view  428805            NaN\n",
              "9   1433221204592     339335       view   82389            NaN\n",
              "10  1433222162373     176446       view   10572            NaN\n",
              "11  1433221701252     929206       view  410676            NaN\n",
              "12  1433224229496      15795       view   44872            NaN\n",
              "13  1433223697356     598426       view  156489            NaN\n",
              "14  1433224078165     223343       view  402625            NaN\n",
              "15  1433222531378      57036       view  334662            NaN\n",
              "16  1433223239808    1377281       view  251467            NaN\n",
              "17  1433223236124     287857  addtocart    5206            NaN\n",
              "18  1433224244282    1370216       view  176721            NaN\n",
              "19  1433221078505     158090  addtocart   10572            NaN"
            ]
          },
          "metadata": {
            "tags": []
          },
          "execution_count": 3
        }
      ]
    },
    {
      "cell_type": "code",
      "metadata": {
        "id": "7wrbcjpBwL6-",
        "colab_type": "code",
        "outputId": "20ccf7bd-b7e3-4ffc-fc41-10a066293bce",
        "colab": {
          "base_uri": "https://localhost:8080/",
          "height": 235
        }
      },
      "source": [
        "category_tree.head(6)"
      ],
      "execution_count": 0,
      "outputs": [
        {
          "output_type": "execute_result",
          "data": {
            "text/html": [
              "<div>\n",
              "<style scoped>\n",
              "    .dataframe tbody tr th:only-of-type {\n",
              "        vertical-align: middle;\n",
              "    }\n",
              "\n",
              "    .dataframe tbody tr th {\n",
              "        vertical-align: top;\n",
              "    }\n",
              "\n",
              "    .dataframe thead th {\n",
              "        text-align: right;\n",
              "    }\n",
              "</style>\n",
              "<table border=\"1\" class=\"dataframe\">\n",
              "  <thead>\n",
              "    <tr style=\"text-align: right;\">\n",
              "      <th></th>\n",
              "      <th>categoryid</th>\n",
              "      <th>parentid</th>\n",
              "    </tr>\n",
              "  </thead>\n",
              "  <tbody>\n",
              "    <tr>\n",
              "      <th>0</th>\n",
              "      <td>1016</td>\n",
              "      <td>213.0</td>\n",
              "    </tr>\n",
              "    <tr>\n",
              "      <th>1</th>\n",
              "      <td>809</td>\n",
              "      <td>169.0</td>\n",
              "    </tr>\n",
              "    <tr>\n",
              "      <th>2</th>\n",
              "      <td>570</td>\n",
              "      <td>9.0</td>\n",
              "    </tr>\n",
              "    <tr>\n",
              "      <th>3</th>\n",
              "      <td>1691</td>\n",
              "      <td>885.0</td>\n",
              "    </tr>\n",
              "    <tr>\n",
              "      <th>4</th>\n",
              "      <td>536</td>\n",
              "      <td>1691.0</td>\n",
              "    </tr>\n",
              "    <tr>\n",
              "      <th>5</th>\n",
              "      <td>231</td>\n",
              "      <td>NaN</td>\n",
              "    </tr>\n",
              "  </tbody>\n",
              "</table>\n",
              "</div>"
            ],
            "text/plain": [
              "   categoryid  parentid\n",
              "0        1016     213.0\n",
              "1         809     169.0\n",
              "2         570       9.0\n",
              "3        1691     885.0\n",
              "4         536    1691.0\n",
              "5         231       NaN"
            ]
          },
          "metadata": {
            "tags": []
          },
          "execution_count": 4
        }
      ]
    },
    {
      "cell_type": "code",
      "metadata": {
        "id": "-jN2vynXwNAd",
        "colab_type": "code",
        "outputId": "89d75d9e-2b1c-40da-bb80-26f032c2f76e",
        "colab": {
          "base_uri": "https://localhost:8080/",
          "height": 204
        }
      },
      "source": [
        "items.head()"
      ],
      "execution_count": 0,
      "outputs": [
        {
          "output_type": "execute_result",
          "data": {
            "text/html": [
              "<div>\n",
              "<style scoped>\n",
              "    .dataframe tbody tr th:only-of-type {\n",
              "        vertical-align: middle;\n",
              "    }\n",
              "\n",
              "    .dataframe tbody tr th {\n",
              "        vertical-align: top;\n",
              "    }\n",
              "\n",
              "    .dataframe thead th {\n",
              "        text-align: right;\n",
              "    }\n",
              "</style>\n",
              "<table border=\"1\" class=\"dataframe\">\n",
              "  <thead>\n",
              "    <tr style=\"text-align: right;\">\n",
              "      <th></th>\n",
              "      <th>timestamp</th>\n",
              "      <th>itemid</th>\n",
              "      <th>property</th>\n",
              "      <th>value</th>\n",
              "    </tr>\n",
              "  </thead>\n",
              "  <tbody>\n",
              "    <tr>\n",
              "      <th>0</th>\n",
              "      <td>1435460400000</td>\n",
              "      <td>460429</td>\n",
              "      <td>categoryid</td>\n",
              "      <td>1338</td>\n",
              "    </tr>\n",
              "    <tr>\n",
              "      <th>1</th>\n",
              "      <td>1441508400000</td>\n",
              "      <td>206783</td>\n",
              "      <td>888</td>\n",
              "      <td>1116713 960601 n277.200</td>\n",
              "    </tr>\n",
              "    <tr>\n",
              "      <th>2</th>\n",
              "      <td>1439089200000</td>\n",
              "      <td>395014</td>\n",
              "      <td>400</td>\n",
              "      <td>n552.000 639502 n720.000 424566</td>\n",
              "    </tr>\n",
              "    <tr>\n",
              "      <th>3</th>\n",
              "      <td>1431226800000</td>\n",
              "      <td>59481</td>\n",
              "      <td>790</td>\n",
              "      <td>n15360.000</td>\n",
              "    </tr>\n",
              "    <tr>\n",
              "      <th>4</th>\n",
              "      <td>1431831600000</td>\n",
              "      <td>156781</td>\n",
              "      <td>917</td>\n",
              "      <td>828513</td>\n",
              "    </tr>\n",
              "  </tbody>\n",
              "</table>\n",
              "</div>"
            ],
            "text/plain": [
              "       timestamp  itemid    property                            value\n",
              "0  1435460400000  460429  categoryid                             1338\n",
              "1  1441508400000  206783         888          1116713 960601 n277.200\n",
              "2  1439089200000  395014         400  n552.000 639502 n720.000 424566\n",
              "3  1431226800000   59481         790                       n15360.000\n",
              "4  1431831600000  156781         917                           828513"
            ]
          },
          "metadata": {
            "tags": []
          },
          "execution_count": 5
        }
      ]
    },
    {
      "cell_type": "code",
      "metadata": {
        "id": "Wua4ZybrEC86",
        "colab_type": "code",
        "outputId": "319f0416-926c-4289-fe33-3d43d02ef33c",
        "colab": {
          "base_uri": "https://localhost:8080/",
          "height": 34
        }
      },
      "source": [
        "items['itemid'].unique().size"
      ],
      "execution_count": 0,
      "outputs": [
        {
          "output_type": "execute_result",
          "data": {
            "text/plain": [
              "417053"
            ]
          },
          "metadata": {
            "tags": []
          },
          "execution_count": 6
        }
      ]
    },
    {
      "cell_type": "code",
      "metadata": {
        "id": "4Tw2oOvyEjSN",
        "colab_type": "code",
        "outputId": "7c1ccb6c-d84d-4c9a-fedd-5d88948f8443",
        "colab": {
          "base_uri": "https://localhost:8080/",
          "height": 34
        }
      },
      "source": [
        "events[events.event == 'transaction'].visitorid.sort_values().unique().size"
      ],
      "execution_count": 0,
      "outputs": [
        {
          "output_type": "execute_result",
          "data": {
            "text/plain": [
              "11719"
            ]
          },
          "metadata": {
            "tags": []
          },
          "execution_count": 7
        }
      ]
    },
    {
      "cell_type": "markdown",
      "metadata": {
        "id": "Hd1nuKdEHTZC",
        "colab_type": "text"
      },
      "source": [
        "Too many items and too little bought items to simply softmax across all items."
      ]
    },
    {
      "cell_type": "code",
      "metadata": {
        "id": "p7Eb2HxZ-0_i",
        "colab_type": "code",
        "outputId": "3b96694d-8ef6-4a72-e9e7-dbd9d7a3fee5",
        "colab": {
          "base_uri": "https://localhost:8080/",
          "height": 265
        }
      },
      "source": [
        "import operator\n",
        "import seaborn as sns\n",
        "\n",
        "grouped=events.groupby('event')['itemid'].apply(list)\n",
        "\n",
        "#the most addtocart itemid\n",
        "addtocart=grouped['addtocart']\n",
        "count_addtocart={}\n",
        "# for item in set(addtocart[:]):\n",
        "#     #print(item)\n",
        "#     count_addtocart[item]=addtocart.count(item)\n",
        "addtocart=np.array(addtocart[:])\n",
        "unique, counts = np.unique(addtocart, return_counts=True)\n",
        "count_addtocart=dict(zip(unique, counts))\n",
        "\n",
        "sorted_count_addtocart =sorted(count_addtocart.items(), key=operator.itemgetter(1),reverse=True)\n",
        "x=[i for i in range(200)]\n",
        "y=[i[1] for i in sorted_count_addtocart[:200]]\n",
        "g=sns.barplot(x,y, order=x)"
      ],
      "execution_count": 0,
      "outputs": [
        {
          "output_type": "display_data",
          "data": {
            "image/png": "[encoded data removed]",
            "text/plain": [
              "<Figure size 432x288 with 1 Axes>"
            ]
          },
          "metadata": {
            "tags": []
          }
        }
      ]
    },
    {
      "cell_type": "markdown",
      "metadata": {
        "id": "XVY-9phUMJMM",
        "colab_type": "text"
      },
      "source": [
        "Maybe we can get the a few items with another technique and then rank them with logistic regression"
      ]
    },
    {
      "cell_type": "code",
      "metadata": {
        "id": "JPV7TlHfFDIR",
        "colab_type": "code",
        "colab": {}
      },
      "source": [
        "# Firstly let's create an array that lists visitors who made a purchase\n",
        "customer_purchased = events[events.transactionid.notnull()].visitorid.unique()\n",
        "    \n",
        "purchased_items = []\n",
        "    \n",
        "# Create another list that contains all their purchases \n",
        "for customer in customer_purchased:\n",
        "\n",
        "    #Generate a Pandas series type object containing all the visitor's purchases and put them in the list\n",
        "    purchased_items.append(list(events.loc[(events.visitorid == customer) & (events.transactionid.notnull())].itemid.values))   "
      ],
      "execution_count": 0,
      "outputs": []
    },
    {
      "cell_type": "code",
      "metadata": {
        "id": "BuUMSr7sH84M",
        "colab_type": "code",
        "outputId": "06ffbc90-556c-40e1-a38c-c9cfc141836f",
        "colab": {
          "base_uri": "https://localhost:8080/",
          "height": 34
        }
      },
      "source": [
        "customer_purchased[0:5]"
      ],
      "execution_count": 0,
      "outputs": [
        {
          "output_type": "execute_result",
          "data": {
            "text/plain": [
              "array([599528, 121688, 552148, 102019, 189384])"
            ]
          },
          "metadata": {
            "tags": []
          },
          "execution_count": 10
        }
      ]
    },
    {
      "cell_type": "code",
      "metadata": {
        "id": "N8QZCsK1JLRv",
        "colab_type": "code",
        "outputId": "e1688558-6bc2-48bb-ce05-f852530584c9",
        "colab": {
          "base_uri": "https://localhost:8080/",
          "height": 272
        }
      },
      "source": [
        "purchased_items[0:5]"
      ],
      "execution_count": 0,
      "outputs": [
        {
          "output_type": "execute_result",
          "data": {
            "text/plain": [
              "[[356475],\n",
              " [15335,\n",
              "  380775,\n",
              "  237753,\n",
              "  317178,\n",
              "  12836,\n",
              "  400969,\n",
              "  105792,\n",
              "  25353,\n",
              "  200793,\n",
              "  80582,\n",
              "  302422],\n",
              " [81345],\n",
              " [150318, 49521],\n",
              " [310791, 299044]]"
            ]
          },
          "metadata": {
            "tags": []
          },
          "execution_count": 11
        }
      ]
    },
    {
      "cell_type": "code",
      "metadata": {
        "id": "R3UQw1uMJeME",
        "colab_type": "code",
        "colab": {}
      },
      "source": [
        "# Write a function that would show items that were bought together (same of different dates) by the same customer\n",
        "def recommender_bought_bought(item_id, purchased_items=purchased_items):\n",
        "    \n",
        "    # Perhaps implement a binary search for that item id in the list of arrays\n",
        "    # Then put the arrays containing that item id in a new list\n",
        "    # Then merge all items in that list and get rid of duplicates\n",
        "    recommender_list = []\n",
        "    for x in purchased_items:\n",
        "        if item_id in x:\n",
        "            recommender_list += x\n",
        "    \n",
        "    #Then merge recommender list and remove the item id\n",
        "    recommender_list = list(set(recommender_list) - set([item_id]))\n",
        "    \n",
        "    return recommender_list"
      ],
      "execution_count": 0,
      "outputs": []
    },
    {
      "cell_type": "code",
      "metadata": {
        "id": "VCEig8YEKqvh",
        "colab_type": "code",
        "outputId": "9b0054b0-d962-4029-864a-dc35aba0dcef",
        "colab": {
          "base_uri": "https://localhost:8080/",
          "height": 34
        }
      },
      "source": [
        "recommender_bought_bought(15335, purchased_items)"
      ],
      "execution_count": 0,
      "outputs": [
        {
          "output_type": "execute_result",
          "data": {
            "text/plain": [
              "[105792, 200793, 12836, 80582, 380775, 400969, 25353, 302422, 237753, 317178]"
            ]
          },
          "metadata": {
            "tags": []
          },
          "execution_count": 13
        }
      ]
    },
    {
      "cell_type": "markdown",
      "metadata": {
        "id": "OTyycKI9LrbS",
        "colab_type": "text"
      },
      "source": [
        "Now let's rank the results"
      ]
    },
    {
      "cell_type": "markdown",
      "metadata": {
        "id": "WpkWxLoqU_KQ",
        "colab_type": "text"
      },
      "source": [
        "We only have a short viewing history and most often no buying history. So we can feed the whole history of the user into our model, but we don't have the recources the train a new model for every user, as opposed to developing a movie recommender for example."
      ]
    },
    {
      "cell_type": "code",
      "metadata": {
        "id": "wIEdYrCBKyAn",
        "colab_type": "code",
        "colab": {}
      },
      "source": [
        "X = []\n",
        "Y = []\n",
        "max_length = 0\n",
        "\n",
        "for j, id in enumerate(customer_purchased):\n",
        "  customer_lifeline = events[events.visitorid == id].sort_values('timestamp')\n",
        "  lifeline = []\n",
        "  lifeline_labels = []\n",
        "\n",
        "  for _, event in customer_lifeline.iterrows():\n",
        "    lifeline.append(event.itemid)\n",
        "    lifeline_labels.append(1 if event.itemid in purchased_items[j] else 0)\n",
        "\n",
        "  X.append(lifeline)\n",
        "  Y.append(lifeline_labels)\n",
        "  max_length = len(lifeline) if len(lifeline) > max_length else max_length"
      ],
      "execution_count": 0,
      "outputs": []
    },
    {
      "cell_type": "code",
      "metadata": {
        "id": "ccEmifi3VxT-",
        "colab_type": "code",
        "colab": {
          "base_uri": "https://localhost:8080/",
          "height": 54
        },
        "outputId": "0b9d06c1-fc14-4e51-ec57-58d93592b639"
      },
      "source": [
        "print(X[:5])"
      ],
      "execution_count": 35,
      "outputs": [
        {
          "output_type": "stream",
          "text": [
            "[[356475, 356475, 356475, 356475, 356475, 356475, 356475, 356475, 356475, 356475, 356475, 356475, 356475, 356475, 356475, 356475, 64279], [200793, 251525, 302422, 302422, 105792, 380775, 200793, 302422, 105792, 380775, 12836, 15335, 272926, 237753, 237753, 317178, 317178, 80582, 80582, 25353, 25353, 282803, 371390, 282803, 400969, 400969, 380775, 12836, 237753, 400969, 105792, 317178, 25353, 302422, 80582, 15335, 200793], [81345, 81345, 81345], [49521, 49521, 150318, 49521, 49521, 150318, 49521, 150318, 49521], [299044, 299044, 299044, 299044, 310791, 310791, 299044, 299044, 310791, 310791, 299044, 299044, 299044, 299044, 170811, 369447, 310791, 433397, 299044, 299044, 446507, 299044, 299044, 299044, 299044, 299044, 65722, 65722, 299044]]\n"
          ],
          "name": "stdout"
        }
      ]
    },
    {
      "cell_type": "code",
      "metadata": {
        "id": "SBmjtL5ufTxl",
        "colab_type": "code",
        "outputId": "3518f60f-3c38-49d9-b501-4f06cf5ca990",
        "colab": {
          "base_uri": "https://localhost:8080/",
          "height": 34
        }
      },
      "source": [
        "print(len(X), len(Y))"
      ],
      "execution_count": 0,
      "outputs": [
        {
          "output_type": "stream",
          "text": [
            "11719 11719\n"
          ],
          "name": "stdout"
        }
      ]
    },
    {
      "cell_type": "code",
      "metadata": {
        "id": "LqBS9AMrfcWr",
        "colab_type": "code",
        "outputId": "dc408d47-6b03-44a3-8e09-bf22144dfafd",
        "colab": {
          "base_uri": "https://localhost:8080/",
          "height": 34
        }
      },
      "source": [
        "print(len(purchased_items), len(customers_lifeline))"
      ],
      "execution_count": 0,
      "outputs": [
        {
          "output_type": "stream",
          "text": [
            "11719 11719\n"
          ],
          "name": "stdout"
        }
      ]
    },
    {
      "cell_type": "code",
      "metadata": {
        "colab_type": "code",
        "outputId": "4a09ea35-b897-4270-85f8-b8076d8cf948",
        "id": "JZ5Q6aTU0TC4",
        "colab": {
          "base_uri": "https://localhost:8080/",
          "height": 34
        }
      },
      "source": [
        "print(customer_purchased.shape)"
      ],
      "execution_count": 0,
      "outputs": [
        {
          "output_type": "stream",
          "text": [
            "(11719,)\n"
          ],
          "name": "stdout"
        }
      ]
    },
    {
      "cell_type": "code",
      "metadata": {
        "id": "iSG_6KS13_zC",
        "colab_type": "code",
        "colab": {}
      },
      "source": [
        "def recall_m(y_true, y_pred):\n",
        "        true_positives = tf.keras.backend.sum(tf.keras.backend.round(tf.keras.backend.clip(y_true * y_pred, 0, 1)))\n",
        "        possible_positives = tf.keras.backend.sum(tf.keras.backend.round(tf.keras.backend.clip(y_true, 0, 1)))\n",
        "        recall = true_positives / (possible_positives + tf.keras.backend.epsilon())\n",
        "        return recall\n",
        "\n",
        "def precision_m(y_true, y_pred):\n",
        "        true_positives = tf.keras.backend.sum(tf.keras.backend.round(tf.keras.backend.clip(y_true * y_pred, 0, 1)))\n",
        "        predicted_positives = tf.keras.backend.sum(tf.keras.backend.round(tf.keras.backend.clip(y_pred, 0, 1)))\n",
        "        precision = true_positives / (predicted_positives + tf.keras.backend.epsilon())\n",
        "        return precision\n",
        "\n",
        "def f1_m(y_true, y_pred):\n",
        "    precision = precision_m(y_true, y_pred)\n",
        "    recall = recall_m(y_true, y_pred)\n",
        "    return 2*((precision*recall)/(precision+recall+tf.keras.backend.epsilon()))"
      ],
      "execution_count": 0,
      "outputs": []
    },
    {
      "cell_type": "code",
      "metadata": {
        "id": "yTtLBhxFfvpl",
        "colab_type": "code",
        "outputId": "c57c998f-ce19-4d2a-f422-8aa8ac470470",
        "colab": {
          "base_uri": "https://localhost:8080/",
          "height": 255
        }
      },
      "source": [
        "inputs = tf.keras.Input([max_length])\n",
        "model = tf.keras.layers.Embedding(items['itemid'].max(), 10, input_length=max_length)(inputs)\n",
        "#model = tf.keras.layers.LSTM(64, activation='tanh', return_sequences=True)(model)\n",
        "model = tf.keras.layers.LSTM(1, activation='sigmoid', return_sequences=True)(model)\n",
        "model = tf.keras.Model(inputs=inputs, outputs=model)\n",
        "\n",
        "model.compile(loss='binary_crossentropy', optimizer='adam', metrics=['accuracy', f1_m])\n",
        "model.summary()"
      ],
      "execution_count": 0,
      "outputs": [
        {
          "output_type": "stream",
          "text": [
            "Model: \"model\"\n",
            "_________________________________________________________________\n",
            "Layer (type)                 Output Shape              Param #   \n",
            "=================================================================\n",
            "input_1 (InputLayer)         [(None, 13)]              0         \n",
            "_________________________________________________________________\n",
            "embedding (Embedding)        (None, 13, 10)            4668660   \n",
            "_________________________________________________________________\n",
            "lstm (LSTM)                  (None, 13, 1)             48        \n",
            "=================================================================\n",
            "Total params: 4,668,708\n",
            "Trainable params: 4,668,708\n",
            "Non-trainable params: 0\n",
            "_________________________________________________________________\n"
          ],
          "name": "stdout"
        }
      ]
    },
    {
      "cell_type": "code",
      "metadata": {
        "id": "OQU9C6v3H5C3",
        "colab_type": "code",
        "colab": {}
      },
      "source": [
        "checkpoint_path = \"training_0/cp.ckpt\"\n",
        "\n",
        "cp_callback = tf.keras.callbacks.ModelCheckpoint(filepath=checkpoint_path,\n",
        "                                                 save_weights_only=True,\n",
        "                                                 save_best_only=True,\n",
        "                                                 monitor='val_accuracy',\n",
        "                                                 verbose=1)"
      ],
      "execution_count": 0,
      "outputs": []
    },
    {
      "cell_type": "code",
      "metadata": {
        "id": "Q02mBmkt4OZQ",
        "colab_type": "code",
        "outputId": "e663a1e0-f1ed-4268-8f2b-6ce6a1723b3d",
        "colab": {
          "base_uri": "https://localhost:8080/",
          "height": 731
        }
      },
      "source": [
        "model.fit(tf.keras.preprocessing.sequence.pad_sequences(X, max_length), tf.keras.preprocessing.sequence.pad_sequences(Y, max_length), epochs=10, validation_split=0.1, callbacks=[cp_callback])"
      ],
      "execution_count": 0,
      "outputs": [
        {
          "output_type": "stream",
          "text": [
            "Train on 10547 samples, validate on 1172 samples\n",
            "Epoch 1/10\n",
            "10528/10547 [============================>.] - ETA: 0s - loss: 0.5287 - accuracy: 0.6674 - f1_m: 0.2001\n",
            "Epoch 00001: val_accuracy improved from -inf to 0.80618, saving model to training_0/cp.ckpt\n",
            "10547/10547 [==============================] - 24s 2ms/sample - loss: 0.5284 - accuracy: 0.6677 - f1_m: 0.2019 - val_loss: 0.4001 - val_accuracy: 0.8062 - val_f1_m: 0.7500\n",
            "Epoch 2/10\n",
            "10528/10547 [============================>.] - ETA: 0s - loss: 0.3532 - accuracy: 0.8225 - f1_m: 0.7897\n",
            "Epoch 00002: val_accuracy improved from 0.80618 to 0.82935, saving model to training_0/cp.ckpt\n",
            "10547/10547 [==============================] - 22s 2ms/sample - loss: 0.3532 - accuracy: 0.8225 - f1_m: 0.7895 - val_loss: 0.3283 - val_accuracy: 0.8294 - val_f1_m: 0.7969\n",
            "Epoch 3/10\n",
            "10528/10547 [============================>.] - ETA: 0s - loss: 0.3006 - accuracy: 0.8525 - f1_m: 0.8229\n",
            "Epoch 00003: val_accuracy did not improve from 0.82935\n",
            "10547/10547 [==============================] - 22s 2ms/sample - loss: 0.3006 - accuracy: 0.8525 - f1_m: 0.8229 - val_loss: 0.3269 - val_accuracy: 0.8142 - val_f1_m: 0.7663\n",
            "Epoch 4/10\n",
            "10528/10547 [============================>.] - ETA: 0s - loss: 0.2626 - accuracy: 0.8976 - f1_m: 0.8702\n",
            "Epoch 00004: val_accuracy did not improve from 0.82935\n",
            "10547/10547 [==============================] - 22s 2ms/sample - loss: 0.2627 - accuracy: 0.8975 - f1_m: 0.8700 - val_loss: 0.3424 - val_accuracy: 0.8015 - val_f1_m: 0.7392\n",
            "Epoch 5/10\n",
            "10528/10547 [============================>.] - ETA: 0s - loss: 0.2275 - accuracy: 0.9231 - f1_m: 0.8991\n",
            "Epoch 00005: val_accuracy did not improve from 0.82935\n",
            "10547/10547 [==============================] - 22s 2ms/sample - loss: 0.2275 - accuracy: 0.9231 - f1_m: 0.8992 - val_loss: 0.3697 - val_accuracy: 0.7980 - val_f1_m: 0.7332\n",
            "Epoch 6/10\n",
            "10528/10547 [============================>.] - ETA: 0s - loss: 0.1998 - accuracy: 0.9262 - f1_m: 0.9027\n",
            "Epoch 00006: val_accuracy did not improve from 0.82935\n",
            "10547/10547 [==============================] - 22s 2ms/sample - loss: 0.1997 - accuracy: 0.9263 - f1_m: 0.9028 - val_loss: 0.4033 - val_accuracy: 0.7970 - val_f1_m: 0.7308\n",
            "Epoch 7/10\n",
            "10528/10547 [============================>.] - ETA: 0s - loss: 0.1811 - accuracy: 0.9293 - f1_m: 0.9067\n",
            "Epoch 00007: val_accuracy did not improve from 0.82935\n",
            "10547/10547 [==============================] - 22s 2ms/sample - loss: 0.1810 - accuracy: 0.9293 - f1_m: 0.9067 - val_loss: 0.4360 - val_accuracy: 0.7963 - val_f1_m: 0.7293\n",
            "Epoch 8/10\n",
            "10528/10547 [============================>.] - ETA: 0s - loss: 0.1693 - accuracy: 0.9300 - f1_m: 0.9079\n",
            "Epoch 00008: val_accuracy did not improve from 0.82935\n",
            "10547/10547 [==============================] - 22s 2ms/sample - loss: 0.1694 - accuracy: 0.9300 - f1_m: 0.9079 - val_loss: 0.4665 - val_accuracy: 0.7959 - val_f1_m: 0.7281\n",
            "Epoch 9/10\n",
            "10528/10547 [============================>.] - ETA: 0s - loss: 0.1620 - accuracy: 0.9298 - f1_m: 0.9074\n",
            "Epoch 00009: val_accuracy did not improve from 0.82935\n",
            "10547/10547 [==============================] - 22s 2ms/sample - loss: 0.1619 - accuracy: 0.9299 - f1_m: 0.9075 - val_loss: 0.4926 - val_accuracy: 0.7967 - val_f1_m: 0.7295\n",
            "Epoch 10/10\n",
            "10528/10547 [============================>.] - ETA: 0s - loss: 0.1567 - accuracy: 0.9311 - f1_m: 0.9093\n",
            "Epoch 00010: val_accuracy did not improve from 0.82935\n",
            "10547/10547 [==============================] - 22s 2ms/sample - loss: 0.1567 - accuracy: 0.9311 - f1_m: 0.9093 - val_loss: 0.5161 - val_accuracy: 0.7969 - val_f1_m: 0.7286\n"
          ],
          "name": "stdout"
        },
        {
          "output_type": "execute_result",
          "data": {
            "text/plain": [
              "<tensorflow.python.keras.callbacks.History at 0x7fb517204a90>"
            ]
          },
          "metadata": {
            "tags": []
          },
          "execution_count": 27
        }
      ]
    },
    {
      "cell_type": "code",
      "metadata": {
        "id": "j97GghoJH8NY",
        "colab_type": "code",
        "outputId": "c2cdcd23-7b73-4047-fa51-14a13ae7858c",
        "colab": {
          "base_uri": "https://localhost:8080/",
          "height": 34
        }
      },
      "source": [
        "model.load_weights(checkpoint_path)"
      ],
      "execution_count": 0,
      "outputs": [
        {
          "output_type": "execute_result",
          "data": {
            "text/plain": [
              "<tensorflow.python.training.tracking.util.CheckpointLoadStatus at 0x7fa75b6a66a0>"
            ]
          },
          "metadata": {
            "tags": []
          },
          "execution_count": 25
        }
      ]
    },
    {
      "cell_type": "markdown",
      "metadata": {
        "id": "obNyHh-m7STo",
        "colab_type": "text"
      },
      "source": [
        "Metric are going to be far from perfect, since it's not that hard to learn that items that repeat for a user are more likely to be purchased by him. Hopefuly the model is also learning other useful stuff though."
      ]
    },
    {
      "cell_type": "code",
      "metadata": {
        "id": "0UERLdHD5z5a",
        "colab_type": "code",
        "colab": {}
      },
      "source": [
        "def sorted_recomendations(users_past):\n",
        "  options = recommender_bought_bought(users_past[-1])\n",
        "\n",
        "  if options:\n",
        "    to_be_predicted_matrix = []\n",
        "    for option in options:\n",
        "      to_be_predicted_matrix.append(users_past + [option])\n",
        "\n",
        "    predictions = model.predict(tf.keras.preprocessing.sequence.pad_sequences(to_be_predicted_matrix, max_length))[:, -1, 0]\n",
        "\n",
        "    return np.array(options)[np.flip(np.argsort(predictions))]\n",
        "\n",
        "  else:\n",
        "    return []"
      ],
      "execution_count": 0,
      "outputs": []
    },
    {
      "cell_type": "code",
      "metadata": {
        "id": "Pypkbtq780OO",
        "colab_type": "code",
        "outputId": "a7b6a8d9-1fef-4ba5-faea-9ea9fb6061f5",
        "colab": {
          "base_uri": "https://localhost:8080/",
          "height": 51
        }
      },
      "source": [
        "sorted_recomendations([200793, 251525, 302422, 302422, 105792, 380775, 200793, 302422, 105792, 380775, 12836, 15335, 272926, 237753, 237753, 317178, 317178, 80582, 80582, 25353, 25353, 282803, 371390, 282803, 400969, 400969, 380775, 12836, 237753, 400969, 105792, 317178, 25353, 302422, 80582, 15335, 200793])"
      ],
      "execution_count": 36,
      "outputs": [
        {
          "output_type": "execute_result",
          "data": {
            "text/plain": [
              "array([302422, 237753,  15335,  80582, 400969, 105792, 380775, 317178,\n",
              "        25353,  12836])"
            ]
          },
          "metadata": {
            "tags": []
          },
          "execution_count": 36
        }
      ]
    }
  ]
}